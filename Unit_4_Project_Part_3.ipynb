{
 "cells": [
  {
   "cell_type": "markdown",
   "metadata": {},
   "source": [
    "# **Unit 4 Project - IRONMAN**\n",
    "\n",
    "### Problem Statement: Which Ironman race in North America provides the best chance to earn a slot to the Iroman World Championships in Kona, HI?\n",
    "\n",
    "### Assumptions\n",
    "\n",
    "* An Ironman is a 140.6 mile triathlon race which is composed of a 2.4 mile Swim, a 112 mile Bike, and a 26.2 mile Run\n",
    "* \"Best Chance\" has several meanings including:\n",
    "    * Slowest Swim, Bike, Run Splits\n",
    "    * Number of Competitors\n",
    "    * Course factors (elevation, weather, wet suit legal, etc.)\n",
    "* Evaluate only Male 30-34 and 35-39 age groups; these are typically the largest and most competitive age groups and the age classification I would compete in the near future.\n",
    "* Assume 3 Kona Slots will be available per age group per race\n",
    "* Dataset created from webscrape of all available North American race locations from 2013-2018\n",
    "* Dataset includes competitors who Did Not Start (DNS), DNF (Did Not Finish), Disqualified (DQ)\n",
    "* Most Ironman events have a 17 hour cutoff time to complete the race.\n",
    "* Portions of the race can be cancelled due to unsafe conditions, e.g. IM Maryland Swim 2016\n",
    "* Wetsuit legal races are those in which the water temperature is below 78°F\n",
    "* Transition Times for Swim to Bike(T1) and Bike to Run (T2) will not be included in analysis"
   ]
  },
  {
   "cell_type": "code",
   "execution_count": 50,
   "metadata": {},
   "outputs": [],
   "source": [
    "import pandas as pd\n",
    "import numpy as np\n",
    "import datetime as dt\n",
    "from datetime import timedelta\n",
    "from sklearn.linear_model import LinearRegression\n",
    "import seaborn as sns\n",
    "import matplotlib.pyplot as plt\n",
    "import statsmodels.api as sm\n",
    "import statsmodels.formula.api as smf \n",
    "import scipy.stats as stats"
   ]
  },
  {
   "cell_type": "code",
   "execution_count": 51,
   "metadata": {},
   "outputs": [],
   "source": [
    "data = pd.read_csv('race_results.csv') #read in the data\n",
    "az = pd.read_csv('arizona.csv') #read in the data"
   ]
  },
  {
   "cell_type": "code",
   "execution_count": 58,
   "metadata": {},
   "outputs": [],
   "source": [
    "data['race_loc'] = data.Race.map({'Wisconsin':1, 'Texas':2, 'Florida':3, 'Lake Placid': 4, 'Arizona':5,\\\n",
    "                        'Cozumel':6, 'Mont-Tremblant':7, 'Louisville': 8, 'Boulder':9, 'Chattanooga': 10,\\\n",
    "                         'Canada':11, 'Maryland':12, 'Santa Rosa':13})"
   ]
  },
  {
   "cell_type": "code",
   "execution_count": 52,
   "metadata": {},
   "outputs": [],
   "source": [
    "#Fields in the dataset contain ---,DQ(disqualified),DNS (did not start), DNF (did not finish) \n",
    "#Sometime portions of races are cancelled due to unsafe conditions e.g. Ironman Maryland 2016 & Florida 2014 Swim\n",
    "\n",
    "data = data.replace([['---','DNF','DQ','DNS']],np.nan) #replace values with NaN\n",
    "\n",
    "#Change the Swim, Bike, Run, and Finish time splits from objects to Datetime in total seconds\n",
    "data['Swim'] = pd.to_timedelta(data['Swim']).dt.total_seconds()\n",
    "data['Bike'] = pd.to_timedelta(data['Bike']).dt.total_seconds()\n",
    "data['Run'] = pd.to_timedelta(data['Run']).dt.total_seconds()\n",
    "data['Finish'] = pd.to_timedelta(data['Finish']).dt.total_seconds()"
   ]
  },
  {
   "cell_type": "code",
   "execution_count": 59,
   "metadata": {},
   "outputs": [],
   "source": [
    "#Fields in the dataset contain ---,DQ(disqualified),DNS (did not start), DNF (did not finish) \n",
    "#Sometime portions of races are cancelled due to unsafe conditions e.g. Ironman Maryland 2016 & Florida 2014 Swim\n",
    "\n",
    "az = az.replace([['---','DNF','DQ','DNS']],np.nan) #replace values with NaN\n",
    "\n",
    "#Change the Swim, Bike, Run, and Finish time splits from objects to Datetime in total seconds\n",
    "az['Swim'] = pd.to_timedelta(az['Swim']).dt.total_seconds()\n",
    "az['Bike'] = pd.to_timedelta(az['Bike']).dt.total_seconds()\n",
    "az['Run'] = pd.to_timedelta(az['Run']).dt.total_seconds()\n",
    "az['Finish'] = pd.to_timedelta(az['Finish']).dt.total_seconds()"
   ]
  },
  {
   "cell_type": "code",
   "execution_count": 60,
   "metadata": {},
   "outputs": [],
   "source": [
    "data.Age_Group.replace('30-34', '1', inplace=True)\n",
    "data.Age_Group.replace('35-39', '2', inplace=True)\n",
    "data['Age_Group'] = data.Age_Group.astype('int')\n",
    "data['Div_Rank'] = data.Age_Group.astype('int')"
   ]
  },
  {
   "cell_type": "code",
   "execution_count": 61,
   "metadata": {},
   "outputs": [
    {
     "data": {
      "text/plain": [
       "22    28397.0\n",
       "40    29578.0\n",
       "43    29710.0\n",
       "44    29719.0\n",
       "48    29844.0\n",
       "Name: Finish, dtype: float64"
      ]
     },
     "execution_count": 61,
     "metadata": {},
     "output_type": "execute_result"
    }
   ],
   "source": [
    "data.Finish.head()"
   ]
  },
  {
   "cell_type": "code",
   "execution_count": 62,
   "metadata": {},
   "outputs": [
    {
     "data": {
      "text/plain": [
       "0.9971511731926245"
      ]
     },
     "execution_count": 62,
     "metadata": {},
     "output_type": "execute_result"
    }
   ],
   "source": [
    "data = data.dropna()\n",
    "\n",
    "feature_cols = ['Swim','Bike','Run','race_loc']\n",
    "X= data[feature_cols]\n",
    "y = data['Finish']\n",
    "\n",
    "lr = LinearRegression()\n",
    "\n",
    "lr.fit(X, y)\n",
    "\n",
    "lr.score(X, y)"
   ]
  },
  {
   "cell_type": "code",
   "execution_count": 63,
   "metadata": {},
   "outputs": [],
   "source": [
    "from sklearn.model_selection import train_test_split\n",
    "from sklearn import metrics\n",
    "\n",
    "# Define a function that accepts a list of features and returns testing RMSE.\n",
    "def train_test_rmse(model_data, feature_cols):\n",
    "    X = data[feature_cols]\n",
    "    y = data['Finish']\n",
    "    \n",
    "    X_train, X_test, y_train, y_test = train_test_split(X, y, random_state=123)\n",
    "    \n",
    "    linreg = LinearRegression()\n",
    "    linreg.fit(X_train, y_train)\n",
    "    \n",
    "    y_pred = linreg.predict(X_test)\n",
    "    return np.sqrt(metrics.mean_squared_error(y_test, y_pred))"
   ]
  },
  {
   "cell_type": "code",
   "execution_count": 64,
   "metadata": {},
   "outputs": [
    {
     "name": "stdout",
     "output_type": "stream",
     "text": [
      "357.72845023244776\n"
     ]
    }
   ],
   "source": [
    "print(train_test_rmse(data, ['Swim', 'Bike', 'Run']))"
   ]
  },
  {
   "cell_type": "code",
   "execution_count": 65,
   "metadata": {},
   "outputs": [
    {
     "data": {
      "text/plain": [
       "<seaborn.axisgrid.FacetGrid at 0x28c5e980e80>"
      ]
     },
     "execution_count": 65,
     "metadata": {},
     "output_type": "execute_result"
    },
    {
     "data": {
      "image/png": "[encoded data removed]",
      "text/plain": [
       "<matplotlib.figure.Figure at 0x28c5ec881d0>"
      ]
     },
     "metadata": {},
     "output_type": "display_data"
    }
   ],
   "source": [
    "sns.lmplot(x='race_loc', y='Finish', data = data)"
   ]
  },
  {
   "cell_type": "code",
   "execution_count": 66,
   "metadata": {},
   "outputs": [],
   "source": [
    "data.Age_Group.replace('30-34', '1', inplace=True)\n",
    "data.Age_Group.replace('35-39', '2', inplace=True)\n",
    "data['Age_Group'] = data.Age_Group.astype('int')"
   ]
  },
  {
   "cell_type": "code",
   "execution_count": 67,
   "metadata": {},
   "outputs": [
    {
     "data": {
      "text/html": [
       "<div>\n",
       "<style scoped>\n",
       "    .dataframe tbody tr th:only-of-type {\n",
       "        vertical-align: middle;\n",
       "    }\n",
       "\n",
       "    .dataframe tbody tr th {\n",
       "        vertical-align: top;\n",
       "    }\n",
       "\n",
       "    .dataframe thead th {\n",
       "        text-align: right;\n",
       "    }\n",
       "</style>\n",
       "<table border=\"1\" class=\"dataframe\">\n",
       "  <thead>\n",
       "    <tr style=\"text-align: right;\">\n",
       "      <th></th>\n",
       "      <th>count</th>\n",
       "      <th>mean</th>\n",
       "      <th>std</th>\n",
       "      <th>min</th>\n",
       "      <th>25%</th>\n",
       "      <th>50%</th>\n",
       "      <th>75%</th>\n",
       "      <th>max</th>\n",
       "    </tr>\n",
       "    <tr>\n",
       "      <th>Race</th>\n",
       "      <th></th>\n",
       "      <th></th>\n",
       "      <th></th>\n",
       "      <th></th>\n",
       "      <th></th>\n",
       "      <th></th>\n",
       "      <th></th>\n",
       "      <th></th>\n",
       "    </tr>\n",
       "  </thead>\n",
       "  <tbody>\n",
       "    <tr>\n",
       "      <th>Arizona</th>\n",
       "      <td>2121.0</td>\n",
       "      <td>4859.474305</td>\n",
       "      <td>869.861559</td>\n",
       "      <td>3030.0</td>\n",
       "      <td>4247.00</td>\n",
       "      <td>4750.0</td>\n",
       "      <td>5359.00</td>\n",
       "      <td>8380.0</td>\n",
       "    </tr>\n",
       "    <tr>\n",
       "      <th>Boulder</th>\n",
       "      <td>1429.0</td>\n",
       "      <td>4854.444367</td>\n",
       "      <td>783.124469</td>\n",
       "      <td>2963.0</td>\n",
       "      <td>4302.00</td>\n",
       "      <td>4727.0</td>\n",
       "      <td>5269.00</td>\n",
       "      <td>8151.0</td>\n",
       "    </tr>\n",
       "    <tr>\n",
       "      <th>Canada</th>\n",
       "      <td>1466.0</td>\n",
       "      <td>4550.371760</td>\n",
       "      <td>742.102581</td>\n",
       "      <td>2868.0</td>\n",
       "      <td>4026.25</td>\n",
       "      <td>4470.5</td>\n",
       "      <td>4994.75</td>\n",
       "      <td>7930.0</td>\n",
       "    </tr>\n",
       "    <tr>\n",
       "      <th>Chattanooga</th>\n",
       "      <td>1441.0</td>\n",
       "      <td>3711.868147</td>\n",
       "      <td>541.443585</td>\n",
       "      <td>2391.0</td>\n",
       "      <td>3341.00</td>\n",
       "      <td>3648.0</td>\n",
       "      <td>4010.00</td>\n",
       "      <td>6967.0</td>\n",
       "    </tr>\n",
       "    <tr>\n",
       "      <th>Cozumel</th>\n",
       "      <td>1877.0</td>\n",
       "      <td>3982.658498</td>\n",
       "      <td>956.394724</td>\n",
       "      <td>2068.0</td>\n",
       "      <td>3286.00</td>\n",
       "      <td>3880.0</td>\n",
       "      <td>4542.00</td>\n",
       "      <td>8399.0</td>\n",
       "    </tr>\n",
       "    <tr>\n",
       "      <th>Florida</th>\n",
       "      <td>1830.0</td>\n",
       "      <td>4865.983607</td>\n",
       "      <td>792.071761</td>\n",
       "      <td>2977.0</td>\n",
       "      <td>4324.25</td>\n",
       "      <td>4813.0</td>\n",
       "      <td>5323.00</td>\n",
       "      <td>8434.0</td>\n",
       "    </tr>\n",
       "    <tr>\n",
       "      <th>Lake Placid</th>\n",
       "      <td>2241.0</td>\n",
       "      <td>4113.029451</td>\n",
       "      <td>1161.807867</td>\n",
       "      <td>1495.0</td>\n",
       "      <td>3628.00</td>\n",
       "      <td>4326.0</td>\n",
       "      <td>4850.00</td>\n",
       "      <td>8044.0</td>\n",
       "    </tr>\n",
       "    <tr>\n",
       "      <th>Louisville</th>\n",
       "      <td>1930.0</td>\n",
       "      <td>4341.793782</td>\n",
       "      <td>655.862417</td>\n",
       "      <td>2807.0</td>\n",
       "      <td>3906.75</td>\n",
       "      <td>4289.0</td>\n",
       "      <td>4721.50</td>\n",
       "      <td>7147.0</td>\n",
       "    </tr>\n",
       "    <tr>\n",
       "      <th>Maryland</th>\n",
       "      <td>704.0</td>\n",
       "      <td>4438.434659</td>\n",
       "      <td>1053.711601</td>\n",
       "      <td>2433.0</td>\n",
       "      <td>3587.75</td>\n",
       "      <td>4396.5</td>\n",
       "      <td>5087.25</td>\n",
       "      <td>8131.0</td>\n",
       "    </tr>\n",
       "    <tr>\n",
       "      <th>Mont-Tremblant</th>\n",
       "      <td>2057.0</td>\n",
       "      <td>4666.453087</td>\n",
       "      <td>742.803236</td>\n",
       "      <td>3132.0</td>\n",
       "      <td>4165.00</td>\n",
       "      <td>4583.0</td>\n",
       "      <td>5066.00</td>\n",
       "      <td>8495.0</td>\n",
       "    </tr>\n",
       "    <tr>\n",
       "      <th>Santa Rosa</th>\n",
       "      <td>642.0</td>\n",
       "      <td>4903.176012</td>\n",
       "      <td>815.545964</td>\n",
       "      <td>3035.0</td>\n",
       "      <td>4340.00</td>\n",
       "      <td>4844.0</td>\n",
       "      <td>5394.25</td>\n",
       "      <td>8104.0</td>\n",
       "    </tr>\n",
       "    <tr>\n",
       "      <th>Texas</th>\n",
       "      <td>2390.0</td>\n",
       "      <td>4939.241004</td>\n",
       "      <td>926.318300</td>\n",
       "      <td>2952.0</td>\n",
       "      <td>4293.75</td>\n",
       "      <td>4839.5</td>\n",
       "      <td>5507.25</td>\n",
       "      <td>8362.0</td>\n",
       "    </tr>\n",
       "    <tr>\n",
       "      <th>Wisconsin</th>\n",
       "      <td>2606.0</td>\n",
       "      <td>4829.201074</td>\n",
       "      <td>784.561107</td>\n",
       "      <td>2883.0</td>\n",
       "      <td>4273.25</td>\n",
       "      <td>4747.0</td>\n",
       "      <td>5270.50</td>\n",
       "      <td>8279.0</td>\n",
       "    </tr>\n",
       "  </tbody>\n",
       "</table>\n",
       "</div>"
      ],
      "text/plain": [
       "                 count         mean          std     min      25%     50%  \\\n",
       "Race                                                                        \n",
       "Arizona         2121.0  4859.474305   869.861559  3030.0  4247.00  4750.0   \n",
       "Boulder         1429.0  4854.444367   783.124469  2963.0  4302.00  4727.0   \n",
       "Canada          1466.0  4550.371760   742.102581  2868.0  4026.25  4470.5   \n",
       "Chattanooga     1441.0  3711.868147   541.443585  2391.0  3341.00  3648.0   \n",
       "Cozumel         1877.0  3982.658498   956.394724  2068.0  3286.00  3880.0   \n",
       "Florida         1830.0  4865.983607   792.071761  2977.0  4324.25  4813.0   \n",
       "Lake Placid     2241.0  4113.029451  1161.807867  1495.0  3628.00  4326.0   \n",
       "Louisville      1930.0  4341.793782   655.862417  2807.0  3906.75  4289.0   \n",
       "Maryland         704.0  4438.434659  1053.711601  2433.0  3587.75  4396.5   \n",
       "Mont-Tremblant  2057.0  4666.453087   742.803236  3132.0  4165.00  4583.0   \n",
       "Santa Rosa       642.0  4903.176012   815.545964  3035.0  4340.00  4844.0   \n",
       "Texas           2390.0  4939.241004   926.318300  2952.0  4293.75  4839.5   \n",
       "Wisconsin       2606.0  4829.201074   784.561107  2883.0  4273.25  4747.0   \n",
       "\n",
       "                    75%     max  \n",
       "Race                             \n",
       "Arizona         5359.00  8380.0  \n",
       "Boulder         5269.00  8151.0  \n",
       "Canada          4994.75  7930.0  \n",
       "Chattanooga     4010.00  6967.0  \n",
       "Cozumel         4542.00  8399.0  \n",
       "Florida         5323.00  8434.0  \n",
       "Lake Placid     4850.00  8044.0  \n",
       "Louisville      4721.50  7147.0  \n",
       "Maryland        5087.25  8131.0  \n",
       "Mont-Tremblant  5066.00  8495.0  \n",
       "Santa Rosa      5394.25  8104.0  \n",
       "Texas           5507.25  8362.0  \n",
       "Wisconsin       5270.50  8279.0  "
      ]
     },
     "execution_count": 67,
     "metadata": {},
     "output_type": "execute_result"
    }
   ],
   "source": [
    "data.groupby('Race').Swim.describe()"
   ]
  },
  {
   "cell_type": "code",
   "execution_count": 68,
   "metadata": {},
   "outputs": [
    {
     "data": {
      "text/html": [
       "<div>\n",
       "<style scoped>\n",
       "    .dataframe tbody tr th:only-of-type {\n",
       "        vertical-align: middle;\n",
       "    }\n",
       "\n",
       "    .dataframe tbody tr th {\n",
       "        vertical-align: top;\n",
       "    }\n",
       "\n",
       "    .dataframe thead th {\n",
       "        text-align: right;\n",
       "    }\n",
       "</style>\n",
       "<table border=\"1\" class=\"dataframe\">\n",
       "  <thead>\n",
       "    <tr style=\"text-align: right;\">\n",
       "      <th></th>\n",
       "      <th>Name</th>\n",
       "      <th>Country</th>\n",
       "      <th>Div_Rank</th>\n",
       "      <th>Gender Rank</th>\n",
       "      <th>Overall Rank</th>\n",
       "      <th>Swim</th>\n",
       "      <th>Bike</th>\n",
       "      <th>Run</th>\n",
       "      <th>Finish</th>\n",
       "      <th>Points</th>\n",
       "      <th>...</th>\n",
       "      <th>Water_Temp</th>\n",
       "      <th>Start_Elevation_Bike</th>\n",
       "      <th>Finish_Elevation_Bike</th>\n",
       "      <th>Elevation_Gain_Bike</th>\n",
       "      <th>Start_Elevation_Run</th>\n",
       "      <th>Finish_Elevation_Run</th>\n",
       "      <th>Elevation_Gain_Run</th>\n",
       "      <th>Avg_Weather_Temp_High</th>\n",
       "      <th>Avg_Weather_Temp_Low</th>\n",
       "      <th>race_loc</th>\n",
       "    </tr>\n",
       "  </thead>\n",
       "  <tbody>\n",
       "    <tr>\n",
       "      <th>22</th>\n",
       "      <td>Giuliano, Ryan</td>\n",
       "      <td>USA</td>\n",
       "      <td>1</td>\n",
       "      <td>18</td>\n",
       "      <td>18</td>\n",
       "      <td>3831.0</td>\n",
       "      <td>13733.0</td>\n",
       "      <td>10528.0</td>\n",
       "      <td>28397.0</td>\n",
       "      <td>5000</td>\n",
       "      <td>...</td>\n",
       "      <td>75</td>\n",
       "      <td>111</td>\n",
       "      <td>111</td>\n",
       "      <td>1224</td>\n",
       "      <td>149</td>\n",
       "      <td>144</td>\n",
       "      <td>493</td>\n",
       "      <td>85</td>\n",
       "      <td>65</td>\n",
       "      <td>2</td>\n",
       "    </tr>\n",
       "    <tr>\n",
       "      <th>40</th>\n",
       "      <td>VALENCIA, JUAN</td>\n",
       "      <td>COL</td>\n",
       "      <td>2</td>\n",
       "      <td>29</td>\n",
       "      <td>30</td>\n",
       "      <td>3221.0</td>\n",
       "      <td>14507.0</td>\n",
       "      <td>11479.0</td>\n",
       "      <td>29578.0</td>\n",
       "      <td>5000</td>\n",
       "      <td>...</td>\n",
       "      <td>75</td>\n",
       "      <td>111</td>\n",
       "      <td>111</td>\n",
       "      <td>1224</td>\n",
       "      <td>149</td>\n",
       "      <td>144</td>\n",
       "      <td>493</td>\n",
       "      <td>85</td>\n",
       "      <td>65</td>\n",
       "      <td>2</td>\n",
       "    </tr>\n",
       "    <tr>\n",
       "      <th>43</th>\n",
       "      <td>Cook, Colin</td>\n",
       "      <td>USA</td>\n",
       "      <td>1</td>\n",
       "      <td>30</td>\n",
       "      <td>31</td>\n",
       "      <td>3919.0</td>\n",
       "      <td>14082.0</td>\n",
       "      <td>11333.0</td>\n",
       "      <td>29710.0</td>\n",
       "      <td>4737</td>\n",
       "      <td>...</td>\n",
       "      <td>75</td>\n",
       "      <td>111</td>\n",
       "      <td>111</td>\n",
       "      <td>1224</td>\n",
       "      <td>149</td>\n",
       "      <td>144</td>\n",
       "      <td>493</td>\n",
       "      <td>85</td>\n",
       "      <td>65</td>\n",
       "      <td>2</td>\n",
       "    </tr>\n",
       "    <tr>\n",
       "      <th>44</th>\n",
       "      <td>O'Donnell, Jesse</td>\n",
       "      <td>USA</td>\n",
       "      <td>1</td>\n",
       "      <td>31</td>\n",
       "      <td>32</td>\n",
       "      <td>3734.0</td>\n",
       "      <td>13850.0</td>\n",
       "      <td>11786.0</td>\n",
       "      <td>29719.0</td>\n",
       "      <td>4735</td>\n",
       "      <td>...</td>\n",
       "      <td>75</td>\n",
       "      <td>111</td>\n",
       "      <td>111</td>\n",
       "      <td>1224</td>\n",
       "      <td>149</td>\n",
       "      <td>144</td>\n",
       "      <td>493</td>\n",
       "      <td>85</td>\n",
       "      <td>65</td>\n",
       "      <td>2</td>\n",
       "    </tr>\n",
       "    <tr>\n",
       "      <th>48</th>\n",
       "      <td>Giuliano, Ryan</td>\n",
       "      <td>USA</td>\n",
       "      <td>1</td>\n",
       "      <td>19</td>\n",
       "      <td>19</td>\n",
       "      <td>3701.0</td>\n",
       "      <td>15659.0</td>\n",
       "      <td>10149.0</td>\n",
       "      <td>29844.0</td>\n",
       "      <td>5000</td>\n",
       "      <td>...</td>\n",
       "      <td>75</td>\n",
       "      <td>111</td>\n",
       "      <td>111</td>\n",
       "      <td>1224</td>\n",
       "      <td>149</td>\n",
       "      <td>144</td>\n",
       "      <td>493</td>\n",
       "      <td>78</td>\n",
       "      <td>57</td>\n",
       "      <td>2</td>\n",
       "    </tr>\n",
       "  </tbody>\n",
       "</table>\n",
       "<p>5 rows × 24 columns</p>\n",
       "</div>"
      ],
      "text/plain": [
       "                 Name Country  Div_Rank Gender Rank Overall Rank    Swim  \\\n",
       "22    Giuliano, Ryan      USA         1          18           18  3831.0   \n",
       "40    VALENCIA, JUAN      COL         2          29           30  3221.0   \n",
       "43       Cook, Colin      USA         1          30           31  3919.0   \n",
       "44  O'Donnell, Jesse      USA         1          31           32  3734.0   \n",
       "48    Giuliano, Ryan      USA         1          19           19  3701.0   \n",
       "\n",
       "       Bike      Run   Finish Points    ...    Water_Temp  \\\n",
       "22  13733.0  10528.0  28397.0   5000    ...            75   \n",
       "40  14507.0  11479.0  29578.0   5000    ...            75   \n",
       "43  14082.0  11333.0  29710.0   4737    ...            75   \n",
       "44  13850.0  11786.0  29719.0   4735    ...            75   \n",
       "48  15659.0  10149.0  29844.0   5000    ...            75   \n",
       "\n",
       "   Start_Elevation_Bike Finish_Elevation_Bike  Elevation_Gain_Bike  \\\n",
       "22                  111                   111                 1224   \n",
       "40                  111                   111                 1224   \n",
       "43                  111                   111                 1224   \n",
       "44                  111                   111                 1224   \n",
       "48                  111                   111                 1224   \n",
       "\n",
       "    Start_Elevation_Run  Finish_Elevation_Run  Elevation_Gain_Run  \\\n",
       "22                  149                   144                 493   \n",
       "40                  149                   144                 493   \n",
       "43                  149                   144                 493   \n",
       "44                  149                   144                 493   \n",
       "48                  149                   144                 493   \n",
       "\n",
       "    Avg_Weather_Temp_High  Avg_Weather_Temp_Low  race_loc  \n",
       "22                     85                    65         2  \n",
       "40                     85                    65         2  \n",
       "43                     85                    65         2  \n",
       "44                     85                    65         2  \n",
       "48                     78                    57         2  \n",
       "\n",
       "[5 rows x 24 columns]"
      ]
     },
     "execution_count": 68,
     "metadata": {},
     "output_type": "execute_result"
    }
   ],
   "source": [
    "data.head()"
   ]
  },
  {
   "cell_type": "code",
   "execution_count": 69,
   "metadata": {},
   "outputs": [
    {
     "data": {
      "text/plain": [
       "0.04003098325521004"
      ]
     },
     "execution_count": 69,
     "metadata": {},
     "output_type": "execute_result"
    }
   ],
   "source": [
    "data = data.dropna()\n",
    "\n",
    "feature_cols = ['Water_Temp','Avg_Weather_Temp_High','Avg_Weather_Temp_Low']\n",
    "X= data[feature_cols]\n",
    "y = data['Swim']\n",
    "\n",
    "lr = LinearRegression()\n",
    "\n",
    "lr.fit(X, y)\n",
    "\n",
    "lr.score(X, y)"
   ]
  },
  {
   "cell_type": "code",
   "execution_count": 70,
   "metadata": {},
   "outputs": [
    {
     "data": {
      "text/plain": [
       "0.03228998301919561"
      ]
     },
     "execution_count": 70,
     "metadata": {},
     "output_type": "execute_result"
    }
   ],
   "source": [
    "data = data.dropna()\n",
    "\n",
    "feature_cols = ['Elevation_Gain_Bike','Start_Elevation_Bike', 'Finish_Elevation_Bike','Avg_Weather_Temp_High','Avg_Weather_Temp_Low']\n",
    "X= data[feature_cols]\n",
    "y = data['Bike']\n",
    "\n",
    "lr = LinearRegression()\n",
    "\n",
    "lr.fit(X, y)\n",
    "\n",
    "lr.score(X, y)"
   ]
  },
  {
   "cell_type": "code",
   "execution_count": 71,
   "metadata": {},
   "outputs": [
    {
     "data": {
      "text/plain": [
       "0.046003202542050925"
      ]
     },
     "execution_count": 71,
     "metadata": {},
     "output_type": "execute_result"
    }
   ],
   "source": [
    "data = data.dropna()\n",
    "\n",
    "feature_cols = ['Elevation_Gain_Run','Start_Elevation_Run', 'Finish_Elevation_Run','Avg_Weather_Temp_High','Avg_Weather_Temp_Low']\n",
    "X= data[feature_cols]\n",
    "y = data['Bike']\n",
    "\n",
    "lr = LinearRegression()\n",
    "\n",
    "lr.fit(X, y)\n",
    "\n",
    "lr.score(X, y)"
   ]
  },
  {
   "cell_type": "code",
   "execution_count": 72,
   "metadata": {},
   "outputs": [
    {
     "data": {
      "text/html": [
       "<div>\n",
       "<style scoped>\n",
       "    .dataframe tbody tr th:only-of-type {\n",
       "        vertical-align: middle;\n",
       "    }\n",
       "\n",
       "    .dataframe tbody tr th {\n",
       "        vertical-align: top;\n",
       "    }\n",
       "\n",
       "    .dataframe thead th {\n",
       "        text-align: right;\n",
       "    }\n",
       "</style>\n",
       "<table border=\"1\" class=\"dataframe\">\n",
       "  <thead>\n",
       "    <tr style=\"text-align: right;\">\n",
       "      <th></th>\n",
       "      <th>count</th>\n",
       "      <th>mean</th>\n",
       "      <th>std</th>\n",
       "      <th>min</th>\n",
       "      <th>25%</th>\n",
       "      <th>50%</th>\n",
       "      <th>75%</th>\n",
       "      <th>max</th>\n",
       "    </tr>\n",
       "    <tr>\n",
       "      <th>Race</th>\n",
       "      <th></th>\n",
       "      <th></th>\n",
       "      <th></th>\n",
       "      <th></th>\n",
       "      <th></th>\n",
       "      <th></th>\n",
       "      <th></th>\n",
       "      <th></th>\n",
       "    </tr>\n",
       "  </thead>\n",
       "  <tbody>\n",
       "    <tr>\n",
       "      <th>Arizona</th>\n",
       "      <td>2121.0</td>\n",
       "      <td>45549.464404</td>\n",
       "      <td>6652.290791</td>\n",
       "      <td>31432.0</td>\n",
       "      <td>40526.00</td>\n",
       "      <td>45108.0</td>\n",
       "      <td>50167.00</td>\n",
       "      <td>61057.0</td>\n",
       "    </tr>\n",
       "    <tr>\n",
       "      <th>Boulder</th>\n",
       "      <td>1429.0</td>\n",
       "      <td>47054.276417</td>\n",
       "      <td>6499.976182</td>\n",
       "      <td>31520.0</td>\n",
       "      <td>42415.00</td>\n",
       "      <td>46757.0</td>\n",
       "      <td>51772.00</td>\n",
       "      <td>61180.0</td>\n",
       "    </tr>\n",
       "    <tr>\n",
       "      <th>Canada</th>\n",
       "      <td>1466.0</td>\n",
       "      <td>45684.000000</td>\n",
       "      <td>6340.101253</td>\n",
       "      <td>32326.0</td>\n",
       "      <td>40813.25</td>\n",
       "      <td>45326.5</td>\n",
       "      <td>50126.25</td>\n",
       "      <td>60853.0</td>\n",
       "    </tr>\n",
       "    <tr>\n",
       "      <th>Chattanooga</th>\n",
       "      <td>1441.0</td>\n",
       "      <td>45723.607911</td>\n",
       "      <td>6070.491313</td>\n",
       "      <td>32829.0</td>\n",
       "      <td>41024.00</td>\n",
       "      <td>45427.0</td>\n",
       "      <td>50066.00</td>\n",
       "      <td>60421.0</td>\n",
       "    </tr>\n",
       "    <tr>\n",
       "      <th>Cozumel</th>\n",
       "      <td>1877.0</td>\n",
       "      <td>45460.273308</td>\n",
       "      <td>6382.508650</td>\n",
       "      <td>31174.0</td>\n",
       "      <td>40837.00</td>\n",
       "      <td>45112.0</td>\n",
       "      <td>49798.00</td>\n",
       "      <td>61011.0</td>\n",
       "    </tr>\n",
       "    <tr>\n",
       "      <th>Florida</th>\n",
       "      <td>1830.0</td>\n",
       "      <td>45222.354098</td>\n",
       "      <td>6619.383769</td>\n",
       "      <td>30753.0</td>\n",
       "      <td>40361.00</td>\n",
       "      <td>44519.0</td>\n",
       "      <td>49716.25</td>\n",
       "      <td>60897.0</td>\n",
       "    </tr>\n",
       "    <tr>\n",
       "      <th>Lake Placid</th>\n",
       "      <td>2241.0</td>\n",
       "      <td>45884.392236</td>\n",
       "      <td>6075.009100</td>\n",
       "      <td>31753.0</td>\n",
       "      <td>41561.00</td>\n",
       "      <td>45527.0</td>\n",
       "      <td>49912.00</td>\n",
       "      <td>60989.0</td>\n",
       "    </tr>\n",
       "    <tr>\n",
       "      <th>Louisville</th>\n",
       "      <td>1930.0</td>\n",
       "      <td>45987.663731</td>\n",
       "      <td>6152.346480</td>\n",
       "      <td>31733.0</td>\n",
       "      <td>41480.00</td>\n",
       "      <td>45722.0</td>\n",
       "      <td>50526.00</td>\n",
       "      <td>60625.0</td>\n",
       "    </tr>\n",
       "    <tr>\n",
       "      <th>Maryland</th>\n",
       "      <td>704.0</td>\n",
       "      <td>44306.903409</td>\n",
       "      <td>6240.392452</td>\n",
       "      <td>31101.0</td>\n",
       "      <td>39594.25</td>\n",
       "      <td>44303.5</td>\n",
       "      <td>48664.50</td>\n",
       "      <td>60574.0</td>\n",
       "    </tr>\n",
       "    <tr>\n",
       "      <th>Mont-Tremblant</th>\n",
       "      <td>2057.0</td>\n",
       "      <td>44586.489548</td>\n",
       "      <td>5759.792569</td>\n",
       "      <td>32608.0</td>\n",
       "      <td>40347.00</td>\n",
       "      <td>43925.0</td>\n",
       "      <td>48239.00</td>\n",
       "      <td>60699.0</td>\n",
       "    </tr>\n",
       "    <tr>\n",
       "      <th>Santa Rosa</th>\n",
       "      <td>642.0</td>\n",
       "      <td>45845.042056</td>\n",
       "      <td>6778.404898</td>\n",
       "      <td>31322.0</td>\n",
       "      <td>40855.25</td>\n",
       "      <td>45725.5</td>\n",
       "      <td>50825.25</td>\n",
       "      <td>61049.0</td>\n",
       "    </tr>\n",
       "    <tr>\n",
       "      <th>Texas</th>\n",
       "      <td>2390.0</td>\n",
       "      <td>44803.414226</td>\n",
       "      <td>7347.723741</td>\n",
       "      <td>28397.0</td>\n",
       "      <td>39305.25</td>\n",
       "      <td>44560.0</td>\n",
       "      <td>49806.50</td>\n",
       "      <td>60927.0</td>\n",
       "    </tr>\n",
       "    <tr>\n",
       "      <th>Wisconsin</th>\n",
       "      <td>2606.0</td>\n",
       "      <td>47045.168074</td>\n",
       "      <td>6236.202048</td>\n",
       "      <td>32671.0</td>\n",
       "      <td>42381.25</td>\n",
       "      <td>46428.5</td>\n",
       "      <td>51697.75</td>\n",
       "      <td>61167.0</td>\n",
       "    </tr>\n",
       "  </tbody>\n",
       "</table>\n",
       "</div>"
      ],
      "text/plain": [
       "                 count          mean          std      min       25%      50%  \\\n",
       "Race                                                                            \n",
       "Arizona         2121.0  45549.464404  6652.290791  31432.0  40526.00  45108.0   \n",
       "Boulder         1429.0  47054.276417  6499.976182  31520.0  42415.00  46757.0   \n",
       "Canada          1466.0  45684.000000  6340.101253  32326.0  40813.25  45326.5   \n",
       "Chattanooga     1441.0  45723.607911  6070.491313  32829.0  41024.00  45427.0   \n",
       "Cozumel         1877.0  45460.273308  6382.508650  31174.0  40837.00  45112.0   \n",
       "Florida         1830.0  45222.354098  6619.383769  30753.0  40361.00  44519.0   \n",
       "Lake Placid     2241.0  45884.392236  6075.009100  31753.0  41561.00  45527.0   \n",
       "Louisville      1930.0  45987.663731  6152.346480  31733.0  41480.00  45722.0   \n",
       "Maryland         704.0  44306.903409  6240.392452  31101.0  39594.25  44303.5   \n",
       "Mont-Tremblant  2057.0  44586.489548  5759.792569  32608.0  40347.00  43925.0   \n",
       "Santa Rosa       642.0  45845.042056  6778.404898  31322.0  40855.25  45725.5   \n",
       "Texas           2390.0  44803.414226  7347.723741  28397.0  39305.25  44560.0   \n",
       "Wisconsin       2606.0  47045.168074  6236.202048  32671.0  42381.25  46428.5   \n",
       "\n",
       "                     75%      max  \n",
       "Race                               \n",
       "Arizona         50167.00  61057.0  \n",
       "Boulder         51772.00  61180.0  \n",
       "Canada          50126.25  60853.0  \n",
       "Chattanooga     50066.00  60421.0  \n",
       "Cozumel         49798.00  61011.0  \n",
       "Florida         49716.25  60897.0  \n",
       "Lake Placid     49912.00  60989.0  \n",
       "Louisville      50526.00  60625.0  \n",
       "Maryland        48664.50  60574.0  \n",
       "Mont-Tremblant  48239.00  60699.0  \n",
       "Santa Rosa      50825.25  61049.0  \n",
       "Texas           49806.50  60927.0  \n",
       "Wisconsin       51697.75  61167.0  "
      ]
     },
     "execution_count": 72,
     "metadata": {},
     "output_type": "execute_result"
    }
   ],
   "source": [
    "data.groupby('Race').Finish.describe()"
   ]
  },
  {
   "cell_type": "code",
   "execution_count": 73,
   "metadata": {},
   "outputs": [
    {
     "data": {
      "text/plain": [
       "0.2998878645775125"
      ]
     },
     "execution_count": 73,
     "metadata": {},
     "output_type": "execute_result"
    }
   ],
   "source": [
    "data = data.dropna()\n",
    "\n",
    "feature_cols = ['Swim']\n",
    "X= data[feature_cols]\n",
    "y = data['Finish']\n",
    "\n",
    "lr = LinearRegression()\n",
    "\n",
    "lr.fit(X, y)\n",
    "\n",
    "lr.score(X, y)"
   ]
  },
  {
   "cell_type": "code",
   "execution_count": 74,
   "metadata": {},
   "outputs": [
    {
     "data": {
      "text/plain": [
       "0.7718537471918719"
      ]
     },
     "execution_count": 74,
     "metadata": {},
     "output_type": "execute_result"
    }
   ],
   "source": [
    "data = data.dropna()\n",
    "\n",
    "feature_cols = ['Bike']\n",
    "X= data[feature_cols]\n",
    "y = data['Finish']\n",
    "\n",
    "lr = LinearRegression()\n",
    "\n",
    "lr.fit(X, y)\n",
    "\n",
    "lr.score(X, y)"
   ]
  },
  {
   "cell_type": "code",
   "execution_count": 75,
   "metadata": {},
   "outputs": [
    {
     "data": {
      "text/plain": [
       "0.8151574117228875"
      ]
     },
     "execution_count": 75,
     "metadata": {},
     "output_type": "execute_result"
    }
   ],
   "source": [
    "data = data.dropna()\n",
    "\n",
    "feature_cols = ['Run']\n",
    "X= data[feature_cols]\n",
    "y = data['Finish']\n",
    "\n",
    "lr = LinearRegression()\n",
    "\n",
    "lr.fit(X, y)\n",
    "\n",
    "lr.score(X, y)"
   ]
  },
  {
   "cell_type": "code",
   "execution_count": 76,
   "metadata": {},
   "outputs": [
    {
     "data": {
      "text/plain": [
       "0.00021961603445441735"
      ]
     },
     "execution_count": 76,
     "metadata": {},
     "output_type": "execute_result"
    }
   ],
   "source": [
    "data = data.dropna()\n",
    "\n",
    "feature_cols = ['race_loc']\n",
    "X= data[feature_cols]\n",
    "y = data['Finish']\n",
    "\n",
    "lr = LinearRegression()\n",
    "\n",
    "lr.fit(X, y)\n",
    "\n",
    "lr.score(X, y)"
   ]
  },
  {
   "cell_type": "code",
   "execution_count": 77,
   "metadata": {},
   "outputs": [
    {
     "data": {
      "text/plain": [
       "9.326986119018164e-05"
      ]
     },
     "execution_count": 77,
     "metadata": {},
     "output_type": "execute_result"
    }
   ],
   "source": [
    "data = data.dropna()\n",
    "\n",
    "feature_cols = ['Age_Group']\n",
    "X= data[feature_cols]\n",
    "y = data['Finish']\n",
    "\n",
    "lr = LinearRegression()\n",
    "\n",
    "lr.fit(X, y)\n",
    "\n",
    "lr.score(X, y)"
   ]
  },
  {
   "cell_type": "code",
   "execution_count": 78,
   "metadata": {},
   "outputs": [
    {
     "data": {
      "text/plain": [
       "0.0009309771868315497"
      ]
     },
     "execution_count": 78,
     "metadata": {},
     "output_type": "execute_result"
    }
   ],
   "source": [
    "data = data.dropna()\n",
    "\n",
    "feature_cols = ['Water_Temp']\n",
    "X= data[feature_cols]\n",
    "y = data['Finish']\n",
    "\n",
    "lr = LinearRegression()\n",
    "\n",
    "lr.fit(X, y)\n",
    "\n",
    "lr.score(X, y)"
   ]
  },
  {
   "cell_type": "code",
   "execution_count": 79,
   "metadata": {
    "scrolled": true
   },
   "outputs": [
    {
     "data": {
      "text/plain": [
       "0.004187692675087562"
      ]
     },
     "execution_count": 79,
     "metadata": {},
     "output_type": "execute_result"
    }
   ],
   "source": [
    "data = data.dropna()\n",
    "\n",
    "feature_cols = ['Start_Elevation_Bike']\n",
    "X= data[feature_cols]\n",
    "y = data['Finish']\n",
    "\n",
    "lr = LinearRegression()\n",
    "\n",
    "lr.fit(X, y)\n",
    "\n",
    "lr.score(X, y)"
   ]
  },
  {
   "cell_type": "code",
   "execution_count": 80,
   "metadata": {},
   "outputs": [
    {
     "data": {
      "text/plain": [
       "0.004137554573751423"
      ]
     },
     "execution_count": 80,
     "metadata": {},
     "output_type": "execute_result"
    }
   ],
   "source": [
    "data = data.dropna()\n",
    "\n",
    "feature_cols = ['Finish_Elevation_Bike']\n",
    "X= data[feature_cols]\n",
    "y = data['Finish']\n",
    "\n",
    "lr = LinearRegression()\n",
    "\n",
    "lr.fit(X, y)\n",
    "\n",
    "lr.score(X, y)"
   ]
  },
  {
   "cell_type": "code",
   "execution_count": 81,
   "metadata": {},
   "outputs": [
    {
     "data": {
      "text/plain": [
       "0.0009063304544990602"
      ]
     },
     "execution_count": 81,
     "metadata": {},
     "output_type": "execute_result"
    }
   ],
   "source": [
    "data = data.dropna()\n",
    "\n",
    "feature_cols = ['Elevation_Gain_Bike']\n",
    "X= data[feature_cols]\n",
    "y = data['Finish']\n",
    "\n",
    "lr = LinearRegression()\n",
    "\n",
    "lr.fit(X, y)\n",
    "\n",
    "lr.score(X, y)"
   ]
  },
  {
   "cell_type": "code",
   "execution_count": 82,
   "metadata": {},
   "outputs": [
    {
     "data": {
      "text/plain": [
       "0.0043981373671562185"
      ]
     },
     "execution_count": 82,
     "metadata": {},
     "output_type": "execute_result"
    }
   ],
   "source": [
    "data = data.dropna()\n",
    "\n",
    "feature_cols = ['Start_Elevation_Run']\n",
    "X= data[feature_cols]\n",
    "y = data['Finish']\n",
    "\n",
    "lr = LinearRegression()\n",
    "\n",
    "lr.fit(X, y)\n",
    "\n",
    "lr.score(X, y)"
   ]
  },
  {
   "cell_type": "code",
   "execution_count": 83,
   "metadata": {},
   "outputs": [
    {
     "data": {
      "text/plain": [
       "0.004354806412459111"
      ]
     },
     "execution_count": 83,
     "metadata": {},
     "output_type": "execute_result"
    }
   ],
   "source": [
    "data = data.dropna()\n",
    "\n",
    "feature_cols = ['Finish_Elevation_Run']\n",
    "X= data[feature_cols]\n",
    "y = data['Finish']\n",
    "\n",
    "lr = LinearRegression()\n",
    "\n",
    "lr.fit(X, y)\n",
    "\n",
    "lr.score(X, y)"
   ]
  },
  {
   "cell_type": "code",
   "execution_count": 84,
   "metadata": {},
   "outputs": [
    {
     "data": {
      "text/plain": [
       "4.656885842768688e-05"
      ]
     },
     "execution_count": 84,
     "metadata": {},
     "output_type": "execute_result"
    }
   ],
   "source": [
    "data = data.dropna()\n",
    "\n",
    "feature_cols = ['Elevation_Gain_Run']\n",
    "X= data[feature_cols]\n",
    "y = data['Finish']\n",
    "\n",
    "lr = LinearRegression()\n",
    "\n",
    "lr.fit(X, y)\n",
    "\n",
    "lr.score(X, y)"
   ]
  },
  {
   "cell_type": "code",
   "execution_count": 85,
   "metadata": {},
   "outputs": [
    {
     "data": {
      "text/plain": [
       "0.0006937492269173395"
      ]
     },
     "execution_count": 85,
     "metadata": {},
     "output_type": "execute_result"
    }
   ],
   "source": [
    "data = data.dropna()\n",
    "\n",
    "feature_cols = ['Avg_Weather_Temp_High']\n",
    "X= data[feature_cols]\n",
    "y = data['Finish']\n",
    "\n",
    "lr = LinearRegression()\n",
    "\n",
    "lr.fit(X, y)\n",
    "\n",
    "lr.score(X, y)"
   ]
  },
  {
   "cell_type": "code",
   "execution_count": 86,
   "metadata": {},
   "outputs": [
    {
     "data": {
      "text/plain": [
       "1.336674936991411e-05"
      ]
     },
     "execution_count": 86,
     "metadata": {},
     "output_type": "execute_result"
    }
   ],
   "source": [
    "data = data.dropna()\n",
    "\n",
    "feature_cols = ['Avg_Weather_Temp_Low']\n",
    "X= data[feature_cols]\n",
    "y = data['Finish']\n",
    "\n",
    "lr = LinearRegression()\n",
    "\n",
    "lr.fit(X, y)\n",
    "\n",
    "lr.score(X, y)"
   ]
  },
  {
   "cell_type": "code",
   "execution_count": 87,
   "metadata": {},
   "outputs": [
    {
     "data": {
      "text/plain": [
       "0.023194952114104272"
      ]
     },
     "execution_count": 87,
     "metadata": {},
     "output_type": "execute_result"
    }
   ],
   "source": [
    "data = data.dropna()\n",
    "\n",
    "feature_cols = ['Water_Temp']\n",
    "X= data[feature_cols]\n",
    "y = data['Swim']\n",
    "\n",
    "lr = LinearRegression()\n",
    "\n",
    "lr.fit(X, y)\n",
    "\n",
    "lr.score(X, y)"
   ]
  },
  {
   "cell_type": "code",
   "execution_count": 88,
   "metadata": {},
   "outputs": [
    {
     "data": {
      "text/plain": [
       "0.02224203039318695"
      ]
     },
     "execution_count": 88,
     "metadata": {},
     "output_type": "execute_result"
    }
   ],
   "source": [
    "data = data.dropna()\n",
    "\n",
    "feature_cols = ['Elevation_Gain_Bike','Start_Elevation_Bike','Finish_Elevation_Bike']\n",
    "X= data[feature_cols]\n",
    "y = data['Bike']\n",
    "\n",
    "lr = LinearRegression()\n",
    "\n",
    "lr.fit(X, y)\n",
    "\n",
    "lr.score(X, y)"
   ]
  },
  {
   "cell_type": "code",
   "execution_count": 89,
   "metadata": {},
   "outputs": [
    {
     "data": {
      "image/png": "[encoded data removed]",
      "text/plain": [
       "<matplotlib.figure.Figure at 0x28c5f514550>"
      ]
     },
     "metadata": {},
     "output_type": "display_data"
    }
   ],
   "source": [
    "# distribution of target (race finish times in milliseconds)# distrib \n",
    "plt.figure(figsize=(10,5))\n",
    "sns.distplot(data.Finish);"
   ]
  },
  {
   "cell_type": "code",
   "execution_count": null,
   "metadata": {},
   "outputs": [
    {
     "data": {
      "image/png": "[encoded data removed]",
      "text/plain": [
       "<matplotlib.figure.Figure at 0x28c5f2f6e48>"
      ]
     },
     "metadata": {},
     "output_type": "display_data"
    }
   ],
   "source": [
    "plt.figure(figsize=(8,8))\n",
    "sns.heatmap(data.corr(), square=True, cmap='coolwarm');"
   ]
  },
  {
   "cell_type": "code",
   "execution_count": null,
   "metadata": {},
   "outputs": [],
   "source": [
    "sns.pairplot(data=data,\n",
    "                  y_vars=['Finish'],\n",
    "                  x_vars=data.columns);"
   ]
  },
  {
   "cell_type": "code",
   "execution_count": null,
   "metadata": {},
   "outputs": [],
   "source": [
    "from sklearn.model_selection import train_test_split\n",
    "from sklearn import metrics\n",
    "\n",
    "feature_cols = ['Swim','Bike','Run','race_loc','Water_Temp','Elevation_Gain_Bike',\n",
    "                'Start_Elevation_Bike','Finish_Elevation_Bike','Elevation_Gain_Run',\n",
    "                'Start_Elevation_Run','Finish_Elevation_Run','Avg_Weather_Temp_High',\n",
    "                'Avg_Weather_Temp_Low']\n",
    "\n",
    "X = data[feature_cols]\n",
    "y = data['Finish']\n",
    "    \n",
    "X_train, X_test, y_train, y_test = train_test_split(X, y,test_size=0.2, random_state=123)\n"
   ]
  },
  {
   "cell_type": "code",
   "execution_count": null,
   "metadata": {},
   "outputs": [],
   "source": [
    "model = sm.OLS(y,sm.add_constant(X))\n",
    "results = model.fit()\n",
    "results.summary()"
   ]
  },
  {
   "cell_type": "code",
   "execution_count": null,
   "metadata": {},
   "outputs": [],
   "source": [
    "y_pred = results.predict(sm.add_constant(X))\n",
    "\n",
    "plt.figure(figsize=(10,5))\n",
    "plt.xlim(xmin=25000, xmax=68000)\n",
    "plt.xlabel('Predicted Value')\n",
    "plt.ylabel('Residual')\n",
    "plt.scatter(y_pred,y-y_pred,alpha=.1);\n",
    "plt.plot(np.linspace(0,310000,1000),np.linspace(0,0,1000), color='c');"
   ]
  },
  {
   "cell_type": "code",
   "execution_count": null,
   "metadata": {},
   "outputs": [],
   "source": [
    "feature_cols = ['Swim','Bike','Run','race_loc','Water_Temp','Elevation_Gain_Bike',\n",
    "                'Start_Elevation_Bike','Finish_Elevation_Bike','Elevation_Gain_Run',\n",
    "                'Start_Elevation_Run','Finish_Elevation_Run','Avg_Weather_Temp_High',\n",
    "                'Avg_Weather_Temp_Low']\n",
    "\n",
    "X = data[feature_cols]\n",
    "y = data['Finish']\n",
    "    \n",
    "X_train, X_test, y_train, y_test = train_test_split(X, y,test_size=0.2, random_state=123)\n",
    "\n",
    "model = sm.OLS(y,sm.add_constant(X))\n",
    "results = model.fit()\n",
    "results.rsquared"
   ]
  },
  {
   "cell_type": "code",
   "execution_count": null,
   "metadata": {},
   "outputs": [],
   "source": [
    "y_pred = results.predict(sm.add_constant(X))\n",
    "res = y - y_pred\n",
    "\n",
    "plt.figure(figsize=(20,5))\n",
    "plt.subplot(1, 3, 1)\n",
    "plt.title('Residuals vs Predicted Value')\n",
    "plt.xlim(xmin=25000, xmax=68000)\n",
    "plt.xlabel('Predicted Value')\n",
    "plt.ylabel('Residual')\n",
    "plt.scatter(y_pred, res, alpha=.1);\n",
    "plt.plot(np.linspace(0,3100000,1000),np.linspace(0,0,1000), color='c');\n",
    "\n",
    "plt.subplot(1, 3, 2)\n",
    "plt.title('Distribution of Residuals')\n",
    "plt.xlabel('Error Value')\n",
    "sns.distplot(res);\n",
    "\n",
    "plt.subplot(1, 3, 3)\n",
    "stats.probplot(res, plot=plt);\n",
    "plt.title('Q-Q Plot of Residuals');\n",
    "\n",
    "print('>> Mean of residuals: ',(res).mean())"
   ]
  },
  {
   "cell_type": "code",
   "execution_count": null,
   "metadata": {},
   "outputs": [],
   "source": [
    "az = az.dropna()\n",
    "\n",
    "feature_cols = ['Swim','Bike','Run']\n",
    "X= az[feature_cols]\n",
    "y = az['Finish']\n",
    "\n",
    "lr = LinearRegression()\n",
    "\n",
    "lr.fit(X, y)\n",
    "\n",
    "lr.score(X, y)"
   ]
  },
  {
   "cell_type": "code",
   "execution_count": null,
   "metadata": {},
   "outputs": [],
   "source": [
    "az = az.dropna()\n",
    "\n",
    "feature_cols = ['Elevation_Gain_Bike','Start_Elevation_Bike', 'Finish_Elevation_Bike','Avg_Weather_Temp_High','Avg_Weather_Temp_Low']\n",
    "X= data[feature_cols]\n",
    "y = data['Finish']\n",
    "\n",
    "lr = LinearRegression()\n",
    "\n",
    "lr.fit(X, y)\n",
    "\n",
    "lr.score(X, y)"
   ]
  },
  {
   "cell_type": "code",
   "execution_count": null,
   "metadata": {},
   "outputs": [],
   "source": [
    "az = az.dropna()\n",
    "\n",
    "feature_cols = ['Water_Temp']\n",
    "X= data[feature_cols]\n",
    "y = data['Swim']\n",
    "\n",
    "lr = LinearRegression()\n",
    "\n",
    "lr.fit(X, y)\n",
    "\n",
    "lr.score(X, y)"
   ]
  },
  {
   "cell_type": "code",
   "execution_count": null,
   "metadata": {},
   "outputs": [],
   "source": [
    "kona = data[(data.Div_Rank < 4)]"
   ]
  },
  {
   "cell_type": "code",
   "execution_count": null,
   "metadata": {},
   "outputs": [],
   "source": [
    "kona = kona.dropna()\n",
    "\n",
    "feature_cols = ['Swim', 'Bike', 'Run']\n",
    "X= data[feature_cols]\n",
    "y = data['Finish']\n",
    "\n",
    "lr = LinearRegression()\n",
    "\n",
    "lr.fit(X, y)\n",
    "\n",
    "lr.score(X, y)"
   ]
  },
  {
   "cell_type": "code",
   "execution_count": null,
   "metadata": {},
   "outputs": [],
   "source": []
  }
 ],
 "metadata": {
  "kernelspec": {
   "display_name": "Python 3",
   "language": "python",
   "name": "python3"
  },
  "language_info": {
   "codemirror_mode": {
    "name": "ipython",
    "version": 3
   },
   "file_extension": ".py",
   "mimetype": "text/x-python",
   "name": "python",
   "nbconvert_exporter": "python",
   "pygments_lexer": "ipython3",
   "version": "3.6.4"
  }
 },
 "nbformat": 4,
 "nbformat_minor": 2
}
